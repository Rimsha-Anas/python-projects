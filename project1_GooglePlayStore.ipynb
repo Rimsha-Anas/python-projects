{
 "cells": [
  {
   "cell_type": "code",
   "execution_count": 1,
   "metadata": {},
   "outputs": [],
   "source": [
    "import csv"
   ]
  },
  {
   "cell_type": "code",
   "execution_count": 8,
   "metadata": {},
   "outputs": [],
   "source": [
    "#with open(\"googleplaystore.csv\", encoding = \"utf-8\") as f:\n",
    " #   data = csv.reader(f)\n",
    "  #  android = list(data)"
   ]
  },
  {
   "cell_type": "code",
   "execution_count": 95,
   "metadata": {},
   "outputs": [],
   "source": [
    "f = open(\"googleplaystore.csv\", encoding = \"utf-8\")\n",
    "read = csv.reader(f)\n",
    "android = list(read)"
   ]
  },
  {
   "cell_type": "code",
   "execution_count": 96,
   "metadata": {},
   "outputs": [
    {
     "data": {
      "text/plain": [
       "list"
      ]
     },
     "execution_count": 96,
     "metadata": {},
     "output_type": "execute_result"
    }
   ],
   "source": [
    "type(android)"
   ]
  },
  {
   "cell_type": "code",
   "execution_count": 97,
   "metadata": {},
   "outputs": [
    {
     "data": {
      "text/plain": [
       "10842"
      ]
     },
     "execution_count": 97,
     "metadata": {},
     "output_type": "execute_result"
    }
   ],
   "source": [
    "len(android)"
   ]
  },
  {
   "cell_type": "code",
   "execution_count": 98,
   "metadata": {},
   "outputs": [
    {
     "name": "stdout",
     "output_type": "stream",
     "text": [
      "['App', 'Category', 'Rating', 'Reviews', 'Size', 'Installs', 'Type', 'Price', 'Content Rating', 'Genres', 'Last Updated', 'Current Ver', 'Android Ver']\n"
     ]
    }
   ],
   "source": [
    "android_headers = android[0]\n",
    "print(android_headers)"
   ]
  },
  {
   "cell_type": "code",
   "execution_count": 99,
   "metadata": {},
   "outputs": [],
   "source": [
    "android=android[1:]"
   ]
  },
  {
   "cell_type": "code",
   "execution_count": 100,
   "metadata": {},
   "outputs": [
    {
     "name": "stdout",
     "output_type": "stream",
     "text": [
      "['Life Made WI-Fi Touchscreen Photo Frame', '1.9', '19', '3.0M', '1,000+', 'Free', '0', 'Everyone', '', 'February 11, 2018', '1.0.19', '4.0 and up']\n",
      "\n",
      "['App', 'Category', 'Rating', 'Reviews', 'Size', 'Installs', 'Type', 'Price', 'Content Rating', 'Genres', 'Last Updated', 'Current Ver', 'Android Ver']\n",
      "\n",
      "['Photo Editor & Candy Camera & Grid & ScrapBook', 'ART_AND_DESIGN', '4.1', '159', '19M', '10,000+', 'Free', '0', 'Everyone', 'Art & Design', 'January 7, 2018', '1.0.0', '4.0.3 and up']\n"
     ]
    }
   ],
   "source": [
    "print(android[10472])\n",
    "print()\n",
    "print(android_headers)\n",
    "print()\n",
    "print(android[0])"
   ]
  },
  {
   "cell_type": "code",
   "execution_count": 101,
   "metadata": {},
   "outputs": [],
   "source": [
    "del android[10472]"
   ]
  },
  {
   "cell_type": "code",
   "execution_count": 102,
   "metadata": {},
   "outputs": [
    {
     "data": {
      "text/plain": [
       "10840"
      ]
     },
     "execution_count": 102,
     "metadata": {},
     "output_type": "execute_result"
    }
   ],
   "source": [
    "len(android)"
   ]
  },
  {
   "cell_type": "markdown",
   "metadata": {},
   "source": [
    "# Removing duplicates apps"
   ]
  },
  {
   "cell_type": "code",
   "execution_count": 103,
   "metadata": {},
   "outputs": [
    {
     "name": "stdout",
     "output_type": "stream",
     "text": [
      "['Instagram', 'SOCIAL', '4.5', '66577313', 'Varies with device', '1,000,000,000+', 'Free', '0', 'Teen', 'Social', 'July 31, 2018', 'Varies with device', 'Varies with device']\n",
      "['Instagram', 'SOCIAL', '4.5', '66577446', 'Varies with device', '1,000,000,000+', 'Free', '0', 'Teen', 'Social', 'July 31, 2018', 'Varies with device', 'Varies with device']\n",
      "['Instagram', 'SOCIAL', '4.5', '66577313', 'Varies with device', '1,000,000,000+', 'Free', '0', 'Teen', 'Social', 'July 31, 2018', 'Varies with device', 'Varies with device']\n",
      "['Instagram', 'SOCIAL', '4.5', '66509917', 'Varies with device', '1,000,000,000+', 'Free', '0', 'Teen', 'Social', 'July 31, 2018', 'Varies with device', 'Varies with device']\n"
     ]
    }
   ],
   "source": [
    "for i in android:\n",
    "    name= i[0]\n",
    "    if name == \"Instagram\":\n",
    "        print(i)"
   ]
  },
  {
   "cell_type": "code",
   "execution_count": 104,
   "metadata": {},
   "outputs": [],
   "source": [
    "duplicate_app =[]\n",
    "unique_app =[]\n",
    "\n",
    "for i in android:\n",
    "    app = i[0]\n",
    "    if app in unique_app:\n",
    "        duplicate_app.append(app)\n",
    "    else:\n",
    "        unique_app.append(app)"
   ]
  },
  {
   "cell_type": "code",
   "execution_count": 105,
   "metadata": {},
   "outputs": [
    {
     "data": {
      "text/plain": [
       "1181"
      ]
     },
     "execution_count": 105,
     "metadata": {},
     "output_type": "execute_result"
    }
   ],
   "source": [
    "len(duplicate_app)"
   ]
  },
  {
   "cell_type": "code",
   "execution_count": 106,
   "metadata": {},
   "outputs": [
    {
     "data": {
      "text/plain": [
       "9659"
      ]
     },
     "execution_count": 106,
     "metadata": {},
     "output_type": "execute_result"
    }
   ],
   "source": [
    "len(unique_app)"
   ]
  },
  {
   "cell_type": "code",
   "execution_count": 107,
   "metadata": {},
   "outputs": [
    {
     "data": {
      "text/plain": [
       "1181"
      ]
     },
     "execution_count": 107,
     "metadata": {},
     "output_type": "execute_result"
    }
   ],
   "source": [
    "len(android)-len(unique_app)"
   ]
  },
  {
   "cell_type": "code",
   "execution_count": 108,
   "metadata": {},
   "outputs": [],
   "source": [
    "#reviews = {\"Instagram\":66577446}\n",
    "\n",
    "reviews={}\n",
    "for i in android:\n",
    "    app_name =i[0]\n",
    "    n_reviews = float(i[3])\n",
    "    #print(n_reviews)\n",
    "    if app_name not in reviews:\n",
    "        reviews[app_name] = n_reviews\n",
    "    elif app_name in reviews and reviews[app_name] < n_reviews:\n",
    "        reviews[app_name] = n_reviews"
   ]
  },
  {
   "cell_type": "code",
   "execution_count": 109,
   "metadata": {},
   "outputs": [
    {
     "data": {
      "text/plain": [
       "66577446.0"
      ]
     },
     "execution_count": 109,
     "metadata": {},
     "output_type": "execute_result"
    }
   ],
   "source": [
    "reviews[\"Instagram\"]"
   ]
  },
  {
   "cell_type": "code",
   "execution_count": 110,
   "metadata": {},
   "outputs": [],
   "source": [
    "android_clean = []\n",
    "already_added = []\n",
    "for i in android:\n",
    "    n_reviews = float(i[3])\n",
    "    app_name = i[0]\n",
    "    if reviews[app_name] == n_reviews and app_name not in already_added:\n",
    "        android_clean.append(i)\n",
    "        already_added.append(app_name)"
   ]
  },
  {
   "cell_type": "code",
   "execution_count": 111,
   "metadata": {},
   "outputs": [
    {
     "data": {
      "text/plain": [
       "9659"
      ]
     },
     "execution_count": 111,
     "metadata": {},
     "output_type": "execute_result"
    }
   ],
   "source": [
    "len(android_clean)"
   ]
  },
  {
   "cell_type": "code",
   "execution_count": 112,
   "metadata": {},
   "outputs": [
    {
     "data": {
      "text/plain": [
       "'中国語 AQリスニング'"
      ]
     },
     "execution_count": 112,
     "metadata": {},
     "output_type": "execute_result"
    }
   ],
   "source": [
    "android_clean[4412][0]"
   ]
  },
  {
   "cell_type": "code",
   "execution_count": 113,
   "metadata": {},
   "outputs": [
    {
     "data": {
      "text/plain": [
       "'لعبة تقدر تربح DZ'"
      ]
     },
     "execution_count": 113,
     "metadata": {},
     "output_type": "execute_result"
    }
   ],
   "source": [
    "android_clean[7940][0]"
   ]
  },
  {
   "cell_type": "markdown",
   "metadata": {},
   "source": [
    "# Removing non english app"
   ]
  },
  {
   "cell_type": "code",
   "execution_count": 114,
   "metadata": {},
   "outputs": [
    {
     "name": "stdout",
     "output_type": "stream",
     "text": [
      "\u0000\n",
      "\u0001\n",
      "\u0002\n",
      "\u0003\n",
      "\u0004\n",
      "\u0005\n",
      "\u0006\n",
      "\u0007\n",
      "\b\n",
      "\t\n",
      "\n",
      "\n",
      "\u000b",
      "\n",
      "\f",
      "\n",
      "\r\n",
      "\u000e\n",
      "\u000f\n",
      "\u0010\n",
      "\u0011\n",
      "\u0012\n",
      "\u0013\n",
      "\u0014\n",
      "\u0015\n",
      "\u0016\n",
      "\u0017\n",
      "\u0018\n",
      "\u0019\n",
      "\u001a\n",
      "\u001b\n",
      "\u001c",
      "\n",
      "\u001d",
      "\n",
      "\u001e",
      "\n",
      "\u001f\n",
      " \n",
      "!\n",
      "\"\n",
      "#\n",
      "$\n",
      "%\n",
      "&\n",
      "'\n",
      "(\n",
      ")\n",
      "*\n",
      "+\n",
      ",\n",
      "-\n",
      ".\n",
      "/\n",
      "0\n",
      "1\n",
      "2\n",
      "3\n",
      "4\n",
      "5\n",
      "6\n",
      "7\n",
      "8\n",
      "9\n",
      ":\n",
      ";\n",
      "<\n",
      "=\n",
      ">\n",
      "?\n",
      "@\n",
      "A\n",
      "B\n",
      "C\n",
      "D\n",
      "E\n",
      "F\n",
      "G\n",
      "H\n",
      "I\n",
      "J\n",
      "K\n",
      "L\n",
      "M\n",
      "N\n",
      "O\n",
      "P\n",
      "Q\n",
      "R\n",
      "S\n",
      "T\n",
      "U\n",
      "V\n",
      "W\n",
      "X\n",
      "Y\n",
      "Z\n",
      "[\n",
      "\\\n",
      "]\n",
      "^\n",
      "_\n",
      "`\n",
      "a\n",
      "b\n",
      "c\n",
      "d\n",
      "e\n",
      "f\n",
      "g\n",
      "h\n",
      "i\n",
      "j\n",
      "k\n",
      "l\n",
      "m\n",
      "n\n",
      "o\n",
      "p\n",
      "q\n",
      "r\n",
      "s\n",
      "t\n",
      "u\n",
      "v\n",
      "w\n",
      "x\n",
      "y\n",
      "z\n",
      "{\n",
      "|\n",
      "}\n",
      "~\n",
      "\n"
     ]
    }
   ],
   "source": [
    "for i in range(0,128):\n",
    "    print(chr(i))"
   ]
  },
  {
   "cell_type": "code",
   "execution_count": 115,
   "metadata": {},
   "outputs": [
    {
     "data": {
      "text/plain": [
       "65"
      ]
     },
     "execution_count": 115,
     "metadata": {},
     "output_type": "execute_result"
    }
   ],
   "source": [
    "ord(\"A\")"
   ]
  },
  {
   "cell_type": "code",
   "execution_count": 116,
   "metadata": {},
   "outputs": [
    {
     "data": {
      "text/plain": [
       "97"
      ]
     },
     "execution_count": 116,
     "metadata": {},
     "output_type": "execute_result"
    }
   ],
   "source": [
    "ord(\"a\")"
   ]
  },
  {
   "cell_type": "code",
   "execution_count": 117,
   "metadata": {},
   "outputs": [],
   "source": [
    "def is_english(app_name): \n",
    "    for i in app_name:\n",
    "        if ord(i) > 127:\n",
    "            return False\n",
    "        else: \n",
    "            return True\n",
    "            "
   ]
  },
  {
   "cell_type": "code",
   "execution_count": 118,
   "metadata": {},
   "outputs": [
    {
     "data": {
      "text/plain": [
       "True"
      ]
     },
     "execution_count": 118,
     "metadata": {},
     "output_type": "execute_result"
    }
   ],
   "source": [
    "is_english(\"Instagram\")"
   ]
  },
  {
   "cell_type": "code",
   "execution_count": 119,
   "metadata": {},
   "outputs": [
    {
     "data": {
      "text/plain": [
       "False"
      ]
     },
     "execution_count": 119,
     "metadata": {},
     "output_type": "execute_result"
    }
   ],
   "source": [
    "is_english(\"中国語 AQリスニング\")"
   ]
  },
  {
   "cell_type": "code",
   "execution_count": 120,
   "metadata": {},
   "outputs": [
    {
     "data": {
      "text/plain": [
       "False"
      ]
     },
     "execution_count": 120,
     "metadata": {},
     "output_type": "execute_result"
    }
   ],
   "source": [
    "is_english(\"لعبة تقدر تربح DZ\")"
   ]
  },
  {
   "cell_type": "code",
   "execution_count": 191,
   "metadata": {},
   "outputs": [],
   "source": [
    "def is_english(app_name):\n",
    "    non_ascii = 0\n",
    "    for i in app_name:\n",
    "        if ord(i) > 127:\n",
    "            non_ascii +=1\n",
    "        if non_ascii > 3:\n",
    "            return False\n",
    "        else: \n",
    "            return True"
   ]
  },
  {
   "cell_type": "code",
   "execution_count": 192,
   "metadata": {},
   "outputs": [
    {
     "data": {
      "text/plain": [
       "True"
      ]
     },
     "execution_count": 192,
     "metadata": {},
     "output_type": "execute_result"
    }
   ],
   "source": [
    "is_english(\"😃\")"
   ]
  },
  {
   "cell_type": "code",
   "execution_count": 194,
   "metadata": {},
   "outputs": [
    {
     "data": {
      "text/plain": [
       "True"
      ]
     },
     "execution_count": 194,
     "metadata": {},
     "output_type": "execute_result"
    }
   ],
   "source": [
    "is_english(\"😃😃😃😃😃😃 hello\")"
   ]
  },
  {
   "cell_type": "code",
   "execution_count": 127,
   "metadata": {},
   "outputs": [],
   "source": [
    "android_english=[]\n",
    "\n",
    "for i in android_clean:\n",
    "    app_name = i[0]\n",
    "    if is_english(app_name):\n",
    "        android_english.append(i)"
   ]
  },
  {
   "cell_type": "code",
   "execution_count": 128,
   "metadata": {},
   "outputs": [
    {
     "data": {
      "text/plain": [
       "9659"
      ]
     },
     "execution_count": 128,
     "metadata": {},
     "output_type": "execute_result"
    }
   ],
   "source": [
    "len(android_english)"
   ]
  },
  {
   "cell_type": "code",
   "execution_count": 144,
   "metadata": {},
   "outputs": [],
   "source": [
    "android_final=[]\n",
    "\n",
    "for i in android_english:\n",
    "    price = i[7]\n",
    "   # print(type(price))\n",
    "    if price == \"0\":\n",
    "        android_final.append(i)"
   ]
  },
  {
   "cell_type": "code",
   "execution_count": 145,
   "metadata": {},
   "outputs": [
    {
     "data": {
      "text/plain": [
       "8905"
      ]
     },
     "execution_count": 145,
     "metadata": {},
     "output_type": "execute_result"
    }
   ],
   "source": [
    "len(android_final)"
   ]
  },
  {
   "cell_type": "code",
   "execution_count": 146,
   "metadata": {},
   "outputs": [],
   "source": [
    "categories = []\n",
    "\n",
    "for i in android_final:\n",
    "    categories.append(i[1])\n",
    "    "
   ]
  },
  {
   "cell_type": "code",
   "execution_count": 147,
   "metadata": {},
   "outputs": [],
   "source": [
    "uni_cat = set(categories)"
   ]
  },
  {
   "cell_type": "code",
   "execution_count": 148,
   "metadata": {},
   "outputs": [
    {
     "name": "stdout",
     "output_type": "stream",
     "text": [
      "{'WEATHER', 'GAME', 'HOUSE_AND_HOME', 'ART_AND_DESIGN', 'COMICS', 'COMMUNICATION', 'EDUCATION', 'FAMILY', 'SPORTS', 'FINANCE', 'LIFESTYLE', 'LIBRARIES_AND_DEMO', 'NEWS_AND_MAGAZINES', 'PARENTING', 'MAPS_AND_NAVIGATION', 'BEAUTY', 'ENTERTAINMENT', 'BOOKS_AND_REFERENCE', 'BUSINESS', 'HEALTH_AND_FITNESS', 'EVENTS', 'SOCIAL', 'TOOLS', 'FOOD_AND_DRINK', 'PHOTOGRAPHY', 'VIDEO_PLAYERS', 'MEDICAL', 'PERSONALIZATION', 'PRODUCTIVITY', 'SHOPPING', 'DATING', 'AUTO_AND_VEHICLES', 'TRAVEL_AND_LOCAL'}\n"
     ]
    }
   ],
   "source": [
    "print(uni_cat)"
   ]
  },
  {
   "cell_type": "code",
   "execution_count": 149,
   "metadata": {},
   "outputs": [],
   "source": [
    "uni_cat =list(uni_cat)"
   ]
  },
  {
   "cell_type": "code",
   "execution_count": 150,
   "metadata": {},
   "outputs": [
    {
     "name": "stdout",
     "output_type": "stream",
     "text": [
      "['WEATHER', 'GAME', 'HOUSE_AND_HOME', 'ART_AND_DESIGN', 'COMICS', 'COMMUNICATION', 'EDUCATION', 'FAMILY', 'SPORTS', 'FINANCE', 'LIFESTYLE', 'LIBRARIES_AND_DEMO', 'NEWS_AND_MAGAZINES', 'PARENTING', 'MAPS_AND_NAVIGATION', 'BEAUTY', 'ENTERTAINMENT', 'BOOKS_AND_REFERENCE', 'BUSINESS', 'HEALTH_AND_FITNESS', 'EVENTS', 'SOCIAL', 'TOOLS', 'FOOD_AND_DRINK', 'PHOTOGRAPHY', 'VIDEO_PLAYERS', 'MEDICAL', 'PERSONALIZATION', 'PRODUCTIVITY', 'SHOPPING', 'DATING', 'AUTO_AND_VEHICLES', 'TRAVEL_AND_LOCAL']\n"
     ]
    }
   ],
   "source": [
    "print(uni_cat)"
   ]
  },
  {
   "cell_type": "markdown",
   "metadata": {},
   "source": [
    "# Most common genres as per avg installation"
   ]
  },
  {
   "cell_type": "code",
   "execution_count": 172,
   "metadata": {},
   "outputs": [],
   "source": [
    "avg_installation=[]\n",
    "for cat in uni_cat:\n",
    "    total_int = 0\n",
    "    no_ins = 0\n",
    "    \n",
    "    for i in android_final:\n",
    "        categories = i[1]\n",
    "        if cat == categories:\n",
    "            n_install = i[5]\n",
    "          #  print(n_install)\n",
    "            n_install = n_install.replace(\"+\",\"\").replace(\",\",\"\")\n",
    "            n_install = float(n_install)\n",
    "            total_int += n_install\n",
    "            no_ins +=1\n",
    "    avg_ins = total_int/no_ins\n",
    "    avg_installation.append([cat,avg_ins])"
   ]
  },
  {
   "cell_type": "code",
   "execution_count": 173,
   "metadata": {},
   "outputs": [
    {
     "data": {
      "text/plain": [
       "[['WEATHER', 5074486.197183099],\n",
       " ['GAME', 15551995.891203703],\n",
       " ['HOUSE_AND_HOME', 1331540.5616438356],\n",
       " ['ART_AND_DESIGN', 1952105.1724137932],\n",
       " ['COMICS', 803234.8214285715],\n",
       " ['COMMUNICATION', 38322625.697916664],\n",
       " ['EDUCATION', 1825480.7692307692],\n",
       " ['FAMILY', 3668870.823076923],\n",
       " ['SPORTS', 3638640.1428571427],\n",
       " ['FINANCE', 1387692.475609756],\n",
       " ['LIFESTYLE', 1436126.94],\n",
       " ['LIBRARIES_AND_DEMO', 638503.734939759],\n",
       " ['NEWS_AND_MAGAZINES', 9401635.952380951],\n",
       " ['PARENTING', 542603.6206896552],\n",
       " ['MAPS_AND_NAVIGATION', 3993339.603174603],\n",
       " ['BEAUTY', 513151.88679245283],\n",
       " ['ENTERTAINMENT', 11640705.88235294],\n",
       " ['BOOKS_AND_REFERENCE', 8587351.855670104],\n",
       " ['BUSINESS', 1708215.906862745],\n",
       " ['HEALTH_AND_FITNESS', 4188821.9853479853],\n",
       " ['EVENTS', 253542.22222222222],\n",
       " ['SOCIAL', 23253652.127118643],\n",
       " ['TOOLS', 10787009.952063914],\n",
       " ['FOOD_AND_DRINK', 1924897.7363636363],\n",
       " ['PHOTOGRAPHY', 17772018.759541985],\n",
       " ['VIDEO_PLAYERS', 24573948.25],\n",
       " ['MEDICAL', 120550.61980830671],\n",
       " ['PERSONALIZATION', 5183850.806779661],\n",
       " ['PRODUCTIVITY', 16738957.554913295],\n",
       " ['SHOPPING', 7001693.425],\n",
       " ['DATING', 854028.8303030303],\n",
       " ['AUTO_AND_VEHICLES', 647317.8170731707],\n",
       " ['TRAVEL_AND_LOCAL', 13984077.710144928]]"
      ]
     },
     "execution_count": 173,
     "metadata": {},
     "output_type": "execute_result"
    }
   ],
   "source": [
    "avg_installation"
   ]
  },
  {
   "cell_type": "code",
   "execution_count": 176,
   "metadata": {},
   "outputs": [],
   "source": [
    "sorted_list =[]\n",
    "\n",
    "for i in avg_installation:\n",
    "    sorted_list.append([i[1],i[0]])"
   ]
  },
  {
   "cell_type": "code",
   "execution_count": 178,
   "metadata": {},
   "outputs": [
    {
     "data": {
      "text/plain": [
       "[[38322625.697916664, 'COMMUNICATION'],\n",
       " [24573948.25, 'VIDEO_PLAYERS'],\n",
       " [23253652.127118643, 'SOCIAL'],\n",
       " [17772018.759541985, 'PHOTOGRAPHY'],\n",
       " [16738957.554913295, 'PRODUCTIVITY'],\n",
       " [15551995.891203703, 'GAME'],\n",
       " [13984077.710144928, 'TRAVEL_AND_LOCAL'],\n",
       " [11640705.88235294, 'ENTERTAINMENT'],\n",
       " [10787009.952063914, 'TOOLS'],\n",
       " [9401635.952380951, 'NEWS_AND_MAGAZINES'],\n",
       " [8587351.855670104, 'BOOKS_AND_REFERENCE'],\n",
       " [7001693.425, 'SHOPPING'],\n",
       " [5183850.806779661, 'PERSONALIZATION'],\n",
       " [5074486.197183099, 'WEATHER'],\n",
       " [4188821.9853479853, 'HEALTH_AND_FITNESS'],\n",
       " [3993339.603174603, 'MAPS_AND_NAVIGATION'],\n",
       " [3668870.823076923, 'FAMILY'],\n",
       " [3638640.1428571427, 'SPORTS'],\n",
       " [1952105.1724137932, 'ART_AND_DESIGN'],\n",
       " [1924897.7363636363, 'FOOD_AND_DRINK'],\n",
       " [1825480.7692307692, 'EDUCATION'],\n",
       " [1708215.906862745, 'BUSINESS'],\n",
       " [1436126.94, 'LIFESTYLE'],\n",
       " [1387692.475609756, 'FINANCE'],\n",
       " [1331540.5616438356, 'HOUSE_AND_HOME'],\n",
       " [854028.8303030303, 'DATING'],\n",
       " [803234.8214285715, 'COMICS'],\n",
       " [647317.8170731707, 'AUTO_AND_VEHICLES'],\n",
       " [638503.734939759, 'LIBRARIES_AND_DEMO'],\n",
       " [542603.6206896552, 'PARENTING'],\n",
       " [513151.88679245283, 'BEAUTY'],\n",
       " [253542.22222222222, 'EVENTS'],\n",
       " [120550.61980830671, 'MEDICAL']]"
      ]
     },
     "execution_count": 178,
     "metadata": {},
     "output_type": "execute_result"
    }
   ],
   "source": [
    "sorted_list = sorted(sorted_list, reverse = True)\n",
    "sorted_list"
   ]
  },
  {
   "cell_type": "code",
   "execution_count": 162,
   "metadata": {},
   "outputs": [
    {
     "name": "stdout",
     "output_type": "stream",
     "text": [
      "WhatsApp Messenger 1,000,000,000+\n",
      "imo beta free calls and text 100,000,000+\n",
      "Android Messages 100,000,000+\n",
      "Google Duo - High Quality Video Calls 500,000,000+\n",
      "Messenger – Text and Video Chat for Free 1,000,000,000+\n",
      "imo free video calls and chat 500,000,000+\n",
      "Skype - free IM & video calls 1,000,000,000+\n",
      "Who 100,000,000+\n",
      "GO SMS Pro - Messenger, Free Themes, Emoji 100,000,000+\n",
      "LINE: Free Calls & Messages 500,000,000+\n",
      "Google Chrome: Fast & Secure 1,000,000,000+\n",
      "Firefox Browser fast & private 100,000,000+\n",
      "UC Browser - Fast Download Private & Secure 500,000,000+\n",
      "Gmail 1,000,000,000+\n",
      "Hangouts 1,000,000,000+\n",
      "Messenger Lite: Free Calls & Messages 100,000,000+\n",
      "Kik 100,000,000+\n",
      "KakaoTalk: Free Calls & Text 100,000,000+\n",
      "Opera Mini - fast web browser 100,000,000+\n",
      "Opera Browser: Fast and Secure 100,000,000+\n",
      "Telegram 100,000,000+\n",
      "Truecaller: Caller ID, SMS spam blocking & Dialer 100,000,000+\n",
      "UC Browser Mini -Tiny Fast Private & Secure 100,000,000+\n",
      "Viber Messenger 500,000,000+\n",
      "WeChat 100,000,000+\n",
      "Yahoo Mail – Stay Organized 100,000,000+\n",
      "BBM - Free Calls & Messages 100,000,000+\n"
     ]
    }
   ],
   "source": [
    "for i in android_final:\n",
    "    if i[1] == 'COMMUNICATION' and (i[5] == \"1,000,000,000+\" or \n",
    "                                    i[5] == \"500,000,000+\" or \n",
    "                                   i[5] == \"100,000,000+\"):\n",
    "        print(i[0],i[5])"
   ]
  },
  {
   "cell_type": "code",
   "execution_count": 190,
   "metadata": {},
   "outputs": [
    {
     "name": "stdout",
     "output_type": "stream",
     "text": [
      "Download free book with green book 100,000+\n",
      "Free Panda Radio Music 100,000+\n",
      "Book store 1,000,000+\n",
      "Free Books - Spirit Fanfiction and Stories 1,000,000+\n",
      "Offline English Dictionary 100,000+\n",
      "FamilySearch Tree 1,000,000+\n",
      "Cloud of Books 1,000,000+\n",
      "ReadEra – free ebook reader 1,000,000+\n",
      "Litnet - E-books 100,000+\n",
      "eBoox: book reader fb2 epub zip 1,000,000+\n",
      "All Maths Formulas 1,000,000+\n",
      "English translation from Bengali 100,000+\n",
      "Pdf Book Download - Read Pdf Book 100,000+\n",
      "Free Book Reader 100,000+\n",
      "English-Myanmar Dictionary 1,000,000+\n",
      "Golden Dictionary (EN-AR) 1,000,000+\n",
      "All Language Translator Free 1,000,000+\n",
      "URBANO V 02 instruction manual 100,000+\n",
      "Aab e Hayat Full Novel 100,000+\n",
      "V Made 100,000+\n",
      "Guide (for X-MEN) 100,000+\n",
      "Al Quran Al karim 1,000,000+\n",
      "Koran Read &MP3 30 Juz Offline 1,000,000+\n",
      "Hafizi Quran 15 lines per page 1,000,000+\n",
      "Surah Al-Waqiah 100,000+\n",
      "Hisnul Al Muslim - Hisn Invocations & Adhkaar 100,000+\n",
      "Satellite AR 1,000,000+\n",
      "Oxford A-Z of English Usage 1,000,000+\n",
      "Brilliant Quotes: Life, Love, Family & Motivation 1,000,000+\n",
      "cloudLibrary 100,000+\n",
      "Sabbath School 100,000+\n",
      "Stats Royale for Clash Royale 1,000,000+\n",
      "How to Write CV 100,000+\n",
      "wikiHow: how to do anything 1,000,000+\n",
      "EGW Writings 2 100,000+\n",
      "EGW Writings 1,000,000+\n",
      "Bible with EGW Comments 100,000+\n",
      "My Little Pony AR Guide 1,000,000+\n",
      "Hymnes et Louanges 100,000+\n",
      "BakaReader EX 100,000+\n"
     ]
    }
   ],
   "source": [
    "for i in android_final:\n",
    "    if i[1] == 'BOOKS_AND_REFERENCE' and (i[5] == \"50,000,000+\" or \n",
    "                                          i[5] == \"1,000,000+\" or \n",
    "                                          i[5] == \"100,000+\"):\n",
    "        print(i[0],i[5])"
   ]
  },
  {
   "cell_type": "markdown",
   "metadata": {},
   "source": [
    "# conclusion\n",
    "\n",
    "we are recommending 'productivity' category and we can go with MyMTN type app where will add on some A.I models and further adds on the basis our research."
   ]
  },
  {
   "cell_type": "code",
   "execution_count": null,
   "metadata": {},
   "outputs": [],
   "source": []
  }
 ],
 "metadata": {
  "kernelspec": {
   "display_name": "Python 3",
   "language": "python",
   "name": "python3"
  },
  "language_info": {
   "codemirror_mode": {
    "name": "ipython",
    "version": 3
   },
   "file_extension": ".py",
   "mimetype": "text/x-python",
   "name": "python",
   "nbconvert_exporter": "python",
   "pygments_lexer": "ipython3",
   "version": "3.7.6"
  }
 },
 "nbformat": 4,
 "nbformat_minor": 4
}
